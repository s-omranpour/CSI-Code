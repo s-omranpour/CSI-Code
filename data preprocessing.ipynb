{
 "cells": [
  {
   "cell_type": "code",
   "execution_count": 1,
   "metadata": {},
   "outputs": [],
   "source": [
    "from __future__ import division\n",
    "import re\n",
    "from collections import Counter\n",
    "import pickle\n",
    "import numpy as np\n",
    "import os\n",
    "from tqdm.notebook import tqdm\n",
    "from matplotlib import pyplot as plt\n",
    "import jieba, re\n",
    "import time\n",
    "from sklearn.utils.extmath import randomized_svd\n",
    "\n",
    "\n",
    "from gensim import utils\n",
    "from gensim.models.doc2vec import TaggedDocument\n",
    "from gensim.models import Doc2Vec\n",
    "\n",
    "import json"
   ]
  },
  {
   "cell_type": "markdown",
   "metadata": {},
   "source": [
    "## data dictionary"
   ]
  },
  {
   "cell_type": "code",
   "execution_count": 23,
   "metadata": {},
   "outputs": [
    {
     "data": {
      "application/vnd.jupyter.widget-view+json": {
       "model_id": "45d59671b76b4f8ab7fac5fe8c9228c8",
       "version_major": 2,
       "version_minor": 0
      },
      "text/plain": [
       "HBox(children=(FloatProgress(value=0.0, max=78.0), HTML(value='')))"
      ]
     },
     "metadata": {},
     "output_type": "display_data"
    },
    {
     "name": "stdout",
     "output_type": "stream",
     "text": [
      "\n"
     ]
    },
    {
     "data": {
      "application/vnd.jupyter.widget-view+json": {
       "model_id": "ffa76ec995ac4712a7518f649aaca4b3",
       "version_major": 2,
       "version_minor": 0
      },
      "text/plain": [
       "HBox(children=(FloatProgress(value=0.0, max=78.0), HTML(value='')))"
      ]
     },
     "metadata": {},
     "output_type": "display_data"
    },
    {
     "name": "stdout",
     "output_type": "stream",
     "text": [
      "\n"
     ]
    }
   ],
   "source": [
    "path = '/media/external_3TB/3TB/rafie/master/model-inputs'\n",
    "dataset = 'twitter'\n",
    "split = 'validation'\n",
    "\n",
    "f = open(f'{path}/{dataset}/{split}.txt', \"r\")\n",
    "lines = f.readlines()\n",
    "f.close()\n",
    "\n",
    "events = {}\n",
    "for line in tqdm(lines):\n",
    "    line = json.loads(line.strip())\n",
    "    events[str(line[0]['eid'])] = {'label' : line[1]}\n",
    "    \n",
    "def process_tweet(tweet):\n",
    "#     return tweet['t'], tweet['uid'], tweet['text']\n",
    "    t = int(time.mktime(time.strptime(tweet['created_at'],\"%a %b %d %H:%M:%S +0000 %Y\")))\n",
    "    uid = tweet['user']['id']\n",
    "    text = tweet['text']\n",
    "    return t, uid, text\n",
    "    \n",
    "\n",
    "path = f'/media/external_3TB/3TB/rafie/master/{dataset}-raw-data/{dataset.capitalize()}'\n",
    "for event in tqdm(events):\n",
    "    timestamps = []\n",
    "    uids = []\n",
    "    texts = []\n",
    "    \n",
    "    for file in os.listdir(f\"{path}/{event}-{events[event]['label']}\"):\n",
    "        file = json.load(open(f'{path}/{event}-{events[event][\"label\"]}/{file}'))\n",
    "#     tweets = json.load(open(f'{path}/{event}.json'))\n",
    "        for tweet in [file['tweet']] + file['retweets']:\n",
    "            t, uid, text = process_tweet(tweet)\n",
    "            timestamps.append(t) #\n",
    "            uids.append(uid)    # tweet['user_id']\n",
    "            texts.append(text)\n",
    "        \n",
    "    events[event]['timestamps'] = timestamps\n",
    "    events[event]['uid'] = uids\n",
    "    events[event]['text'] = texts\n",
    "    "
   ]
  },
  {
   "cell_type": "markdown",
   "metadata": {},
   "source": [
    "## user features"
   ]
  },
  {
   "cell_type": "code",
   "execution_count": 24,
   "metadata": {},
   "outputs": [],
   "source": [
    "cnt = Counter()\n",
    "for event in events:\n",
    "    cnt.update(events[event]['uid'])\n",
    "\n",
    "topk = 20000\n",
    "top_users = list(map(lambda x: x[0], cnt.most_common(topk)))\n",
    "all_users = list(map(lambda x: x[0], cnt.most_common()))"
   ]
  },
  {
   "cell_type": "code",
   "execution_count": 25,
   "metadata": {},
   "outputs": [],
   "source": [
    "top_users_index = {}\n",
    "for ii, uid in enumerate(top_users):\n",
    "    top_users_index[uid] = ii\n",
    "\n",
    "all_users_index = {}\n",
    "for ii, uid in enumerate(all_users):\n",
    "    all_users_index[uid] = ii\n",
    "    \n",
    "events_index = {}\n",
    "for ii, eid in enumerate(events):\n",
    "    events_index[eid] = ii"
   ]
  },
  {
   "cell_type": "code",
   "execution_count": 26,
   "metadata": {},
   "outputs": [
    {
     "data": {
      "application/vnd.jupyter.widget-view+json": {
       "model_id": "36ad18cb3f634d92a890dbd9b20f53b5",
       "version_major": 2,
       "version_minor": 0
      },
      "text/plain": [
       "HBox(children=(FloatProgress(value=1.0, bar_style='info', max=1.0), HTML(value='')))"
      ]
     },
     "metadata": {},
     "output_type": "display_data"
    },
    {
     "name": "stdout",
     "output_type": "stream",
     "text": [
      "\n"
     ]
    },
    {
     "data": {
      "application/vnd.jupyter.widget-view+json": {
       "model_id": "5964cfe1f2b44f44bbec0c061e2ed9fa",
       "version_major": 2,
       "version_minor": 0
      },
      "text/plain": [
       "HBox(children=(FloatProgress(value=1.0, bar_style='info', max=1.0), HTML(value='')))"
      ]
     },
     "metadata": {},
     "output_type": "display_data"
    },
    {
     "name": "stdout",
     "output_type": "stream",
     "text": [
      "\n",
      "top_users_events_matrix shape : (20000, 78)\n",
      "Sparsity : 1.616 %\n",
      "matrix_main shape: (39948, 78)\n",
      "Sparsity : 1.449 % \n"
     ]
    }
   ],
   "source": [
    "from scipy.sparse import csr_matrix\n",
    "\n",
    "def get_user_in_event(eid, users):\n",
    "    event_users = set(events[eid]['uid'])\n",
    "    return list(set(users).intersection(event_users))\n",
    "\n",
    "def get_user_event_matrix(users, users_index):\n",
    "    row = []\n",
    "    col = []\n",
    "    data = []\n",
    "    for ii, (eid, value) in tqdm(enumerate(events.items())):\n",
    "        user_in_event = get_user_in_event(eid, users)\n",
    "        for uid in user_in_event:\n",
    "            uind = users_index[uid]\n",
    "            col.append(ii)\n",
    "            row.append(uind)\n",
    "            data.append(1)\n",
    "    return csr_matrix((data, (row, col)), shape=(len(users), len(events)))\n",
    "\n",
    "sub_matrix = get_user_event_matrix(top_users, top_users_index)\n",
    "main_matrix = get_user_event_matrix(all_users, all_users_index)\n",
    "\n",
    "print(\"top_users_events_matrix shape : {}\".format(sub_matrix.shape))\n",
    "print(\"Sparsity : {:.3f} %\".format(sub_matrix.count_nonzero()/np.prod(sub_matrix.shape) * 100))\n",
    "print(\"matrix_main shape: {}\".format(main_matrix.shape))\n",
    "print(\"Sparsity : {:.3f} % \".format(main_matrix.count_nonzero()/np.prod(main_matrix.shape) * 100))"
   ]
  },
  {
   "cell_type": "code",
   "execution_count": 27,
   "metadata": {},
   "outputs": [],
   "source": [
    "RELOAD = False\n",
    "save_path = f'assets/{dataset}/{split}'\n",
    "os.makedirs(save_path, exist_ok=True)\n",
    "\n",
    "if RELOAD:\n",
    "    \n",
    "    u_main = np.load(open(f'{save_path}/u_main.npy','rb'))\n",
    "    sigma_main = np.load(open(f'{save_path}/sigma_main.npy','rb'))\n",
    "    vt_main = np.load(open(f'{save_path}/vt_main.npy','rb'))\n",
    "    all_users_features = u_main@np.diag(sigma_main)\n",
    "    \n",
    "    u_sub = np.load(open(f'{save_path}/u_sub.npy','rb'))\n",
    "    sigma_sub = np.load(open(f'{save_path}/sigma_sub.npy','rb'))\n",
    "    vt_sib = np.load(open(f'{save_path}/vt_sub.npy','rb'))\n",
    "    top_users_features = u_sub@np.diag(sigma_sub)\n",
    "else:\n",
    "    num_main_features = 20     # 10 for weibo, 20 for tweet\n",
    "    n_iter = 7              # 15 for weibo,  7 for tweet\n",
    "    \n",
    "    u_main, sigma_main, vt_main = randomized_svd(main_matrix, n_components=num_main_features, n_iter=n_iter, random_state=42)\n",
    "    all_users_features = u_main@np.diag(sigma_main)\n",
    "    \n",
    "    \n",
    "    num_sub_features = 50\n",
    "    \n",
    "    u_sub, sigma_sub, vt_sub = randomized_svd(sub_matrix@sub_matrix.T, n_components=num_sub_features, n_iter=n_iter, random_state=42)  # random_state=42\n",
    "    top_users_features = u_sub@np.diag(sigma_sub)\n",
    "        \n",
    "    np.save(f'{save_path}/u_main.npy',u_main)\n",
    "    np.save(f'{save_path}/sigma_main.npy',sigma_main)\n",
    "    np.save(f'{save_path}/vt_main.npy',vt_main)\n",
    "    \n",
    "    np.save(f'{save_path}/u_sub.npy',u_sub)\n",
    "    np.save(f'{save_path}/sigma_sub.npy',sigma_sub)\n",
    "    np.save(f'{save_path}/vt_sub.npy',vt_sub)"
   ]
  },
  {
   "cell_type": "code",
   "execution_count": 28,
   "metadata": {},
   "outputs": [
    {
     "data": {
      "text/plain": [
       "((39948, 20), (20000, 50))"
      ]
     },
     "execution_count": 28,
     "metadata": {},
     "output_type": "execute_result"
    }
   ],
   "source": [
    "all_users_features.shape, top_users_features.shape"
   ]
  },
  {
   "cell_type": "markdown",
   "metadata": {},
   "source": [
    "## text features"
   ]
  },
  {
   "cell_type": "code",
   "execution_count": 8,
   "metadata": {},
   "outputs": [
    {
     "data": {
      "application/vnd.jupyter.widget-view+json": {
       "model_id": "e3a6d76d2fee4a4188f90cf440e44c63",
       "version_major": 2,
       "version_minor": 0
      },
      "text/plain": [
       "HBox(children=(FloatProgress(value=0.0, max=806.0), HTML(value='')))"
      ]
     },
     "metadata": {},
     "output_type": "display_data"
    },
    {
     "name": "stdout",
     "output_type": "stream",
     "text": [
      "\n",
      "train # sentences : 66081\n"
     ]
    }
   ],
   "source": [
    "binsize = 3600\n",
    "threshold = 120*24\n",
    "chinese_stopwords = '、 。 〃 〄 々 〆 〇 〈〉 《 》 「 」 『 』 【】 〒 〓 〔 〕 〖 〗 〘〙 〚 〛 〛 〜 〝 〞 〟，'\n",
    "rx = '[' + re.escape(''.join(chinese_stopwords.split())) + ']'\n",
    "\n",
    "\n",
    "def get_sentences():\n",
    "    sentences = []\n",
    "    for eid in tqdm(events):\n",
    "        ts = sorted(events[eid]['timestamps'])\n",
    "        cnt, bins = np.histogram(ts, bins=range(ts[0],ts[0]+threshold*binsize,binsize))\n",
    "\n",
    "        nonzero_bins_ind = np.nonzero(cnt)[0]\n",
    "        nonzero_bins = bins[nonzero_bins_ind]\n",
    "        hist = cnt[nonzero_bins_ind]\n",
    "        inv = nonzero_bins_ind[1:]-nonzero_bins_ind[:-1]\n",
    "        intervals = np.insert(inv,0,0)\n",
    "\n",
    "        for bid, bin_left in enumerate(nonzero_bins):\n",
    "            bin_right = bin_left + binsize\n",
    "            doc = ''\n",
    "            for tid, t in enumerate(ts):\n",
    "                if t<bin_left:\n",
    "                    continue\n",
    "                elif t>=bin_right:\n",
    "                    break\n",
    "                string = events[eid]['text'][tid]\n",
    "                string = re.sub(r\"http\\S+\", \"\", string)\n",
    "                string = re.sub(\"[?!.,:;()'@#$%^&*-=+/\\[\\[\\]\\]]\", ' ', string) # !.,:;()'@#$%^&*-_{}=+/\\\"\n",
    "                doc += string\n",
    "            sentences.append(TaggedDocument(\n",
    "                words=doc, #jieba.lcut(doc), \n",
    "                tags=[eid+'_%s' % bid]\n",
    "            ))\n",
    "                \n",
    "    return sentences\n",
    "    \n",
    "train_sentences = get_sentences()\n",
    "\n",
    "print(\"train # sentences : {}\".format(len(train_sentences)))"
   ]
  },
  {
   "cell_type": "code",
   "execution_count": 9,
   "metadata": {},
   "outputs": [
    {
     "data": {
      "image/png": "[encoded data removed]",
      "text/plain": [
       "<Figure size 432x288 with 1 Axes>"
      ]
     },
     "metadata": {
      "needs_background": "light"
     },
     "output_type": "display_data"
    }
   ],
   "source": [
    "lens = [len(s.words) for s in train_sentences]\n",
    "plt.hist(lens, 1000)\n",
    "plt.show()"
   ]
  },
  {
   "cell_type": "code",
   "execution_count": 10,
   "metadata": {},
   "outputs": [
    {
     "name": "stdout",
     "output_type": "stream",
     "text": [
      "build_vocab is done.\n",
      "doc2vec training is done.\n"
     ]
    }
   ],
   "source": [
    "reload = False\n",
    "if reload:\n",
    "    doc_vectorizer = Doc2Vec.load(f'assets/{dataset}/doc2vec.model')\n",
    "    print(\"doc_vectorizer is loaded.\")\n",
    "else:\n",
    "    doc_vectorizer = Doc2Vec(min_count=1, window=10, vector_size=100, sample=1e-4, negative=5, workers=8)\n",
    "    doc_vectorizer.build_vocab(train_sentences)\n",
    "    print(\"build_vocab is done.\")\n",
    "    doc_vectorizer.train(train_sentences,total_examples=doc_vectorizer.corpus_count,epochs=10)\n",
    "    print(\"doc2vec training is done.\")\n",
    "    doc_vectorizer.save(f'assets/{dataset}/doc2vec.model')"
   ]
  },
  {
   "cell_type": "markdown",
   "metadata": {},
   "source": [
    "## gather all features"
   ]
  },
  {
   "cell_type": "code",
   "execution_count": 29,
   "metadata": {},
   "outputs": [],
   "source": [
    "threshold = 120*24\n",
    "binsize = 3600\n",
    "\n",
    "def get_event_features(eid):\n",
    "    \n",
    "    ## capture\n",
    "    ts = sorted(events[eid]['timestamps'])\n",
    "    cnt, bins = np.histogram(ts, bins=range(ts[0],ts[0]+threshold*binsize,binsize))\n",
    "\n",
    "    nonzero_bins_ind = np.nonzero(cnt)[0]\n",
    "    nonzero_bins = bins[nonzero_bins_ind]\n",
    "\n",
    "    # num_engagements and time intervals\n",
    "    hist = cnt[nonzero_bins_ind].reshape(-1,1)\n",
    "    deltas = nonzero_bins_ind[1:]-nonzero_bins_ind[:-1]\n",
    "    deltas = np.insert(deltas,0,0).reshape(-1, 1)\n",
    "    \n",
    "    # user features\n",
    "    X_users = []\n",
    "    for bid, bin_left in enumerate(nonzero_bins):\n",
    "        bin_userlist = []\n",
    "        bin_right = bin_left + binsize\n",
    "        bin_user_feature = []\n",
    "        for tid, t in enumerate(ts):\n",
    "            if t<bin_left:\n",
    "                continue\n",
    "            elif t>=bin_right:\n",
    "                break\n",
    "            uind = all_users_index[events[eid]['uid'][tid]]\n",
    "            bin_user_feature += [all_users_features[uind].reshape(1,-1)]   # (1,n_components)\n",
    "\n",
    "        X_users += [np.concatenate(bin_user_feature, axis=0).mean(axis=0).reshape(1,-1)]\n",
    "    X_users = np.concatenate(X_users, axis=0)\n",
    "    \n",
    "    # text features\n",
    "    X_text = []\n",
    "    for bid, bin_left in enumerate(nonzero_bins):\n",
    "        bin_right = bin_left + binsize\n",
    "        doc = ''\n",
    "        for tid, t in enumerate(ts):\n",
    "            if t<bin_left:\n",
    "                continue\n",
    "            elif t>=bin_right:\n",
    "                break\n",
    "            string = events[eid]['text'][tid]\n",
    "            string = re.sub(r\"http\\S+\", \"\", string)\n",
    "            string = re.sub(\"[?!.,:;()'@#$%^&*-=+/\\[\\[\\]\\]]\", ' ', string) # !.,:;()'@#$%^&*-_{}=+/\\\"\n",
    "            doc += string\n",
    "        X_text += [doc_vectorizer.infer_vector(\n",
    "#             jieba.lcut(doc)\n",
    "            doc\n",
    "        ).reshape(1,-1)]\n",
    "    X_text = np.concatenate(X_text, axis=0)\n",
    "    \n",
    "    # stack all\n",
    "    X_capture = np.hstack([hist, deltas, X_users, X_text])\n",
    "    \n",
    "    ## score\n",
    "    eind = events_index[eid]\n",
    "    top_active_users = np.where(sub_matrix[:, eind].toarray() > 0)[0]\n",
    "    X_score = top_users_features[top_active_users]\n",
    "    \n",
    "    ## label\n",
    "    y = events[eid]['label']\n",
    "    \n",
    "    return X_capture, X_score, y"
   ]
  },
  {
   "cell_type": "code",
   "execution_count": 30,
   "metadata": {},
   "outputs": [],
   "source": [
    "# xc, xs, y = get_event_features('9833726676')\n",
    "# xc.shape, xs.shape, y"
   ]
  },
  {
   "cell_type": "code",
   "execution_count": 31,
   "metadata": {},
   "outputs": [
    {
     "data": {
      "application/vnd.jupyter.widget-view+json": {
       "model_id": "f4d178f5971648f589d3b1637893930a",
       "version_major": 2,
       "version_minor": 0
      },
      "text/plain": [
       "HBox(children=(FloatProgress(value=0.0, max=78.0), HTML(value='')))"
      ]
     },
     "metadata": {},
     "output_type": "display_data"
    },
    {
     "name": "stdout",
     "output_type": "stream",
     "text": [
      "\n"
     ]
    }
   ],
   "source": [
    "save_path = f'assets/{dataset}/{split}/pkls/'\n",
    "os.makedirs(save_path, exist_ok=True)\n",
    "\n",
    "for eid in tqdm(events):\n",
    "    xc, xs, y = get_event_features(eid)\n",
    "    pickle.dump(\n",
    "        {'x_capture': xc, 'x_score':xs, 'label': y}, \n",
    "        open(save_path + eid + '.pkl', 'wb')\n",
    "    )"
   ]
  },
  {
   "cell_type": "code",
   "execution_count": null,
   "metadata": {},
   "outputs": [],
   "source": [
    " "
   ]
  }
 ],
 "metadata": {
  "kernelspec": {
   "display_name": "Python 3",
   "language": "python",
   "name": "python3"
  },
  "language_info": {
   "codemirror_mode": {
    "name": "ipython",
    "version": 3
   },
   "file_extension": ".py",
   "mimetype": "text/x-python",
   "name": "python",
   "nbconvert_exporter": "python",
   "pygments_lexer": "ipython3",
   "version": "3.6.8"
  }
 },
 "nbformat": 4,
 "nbformat_minor": 2
}
